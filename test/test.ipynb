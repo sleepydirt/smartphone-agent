{
 "cells": [
  {
   "cell_type": "code",
   "execution_count": 1,
   "metadata": {},
   "outputs": [],
   "source": [
    "from langchain_core.tools import tool\n",
    "from langchain_ollama import ChatOllama\n",
    "from langchain_core.messages import SystemMessage, HumanMessage, ToolMessage\n",
    "from langchain_core.tools import tool\n",
    "from langchain_core.messages import BaseMessage\n",
    "from langgraph.graph.message import add_messages\n",
    "from langgraph.graph import END, StateGraph, START\n",
    "from langgraph.checkpoint.memory import MemorySaver\n",
    "from dotenv import load_dotenv\n",
    "from typing import List, Tuple, Annotated, Sequence, Literal\n",
    "from typing_extensions import TypedDict\n",
    "from IPython.display import Image, display\n",
    "import psycopg2\n",
    "import os\n",
    "import json\n",
    "import re\n",
    "\n",
    "load_dotenv()\n",
    "\n",
    "OLLAMA_MODEL = \"llama3.1:8b\"\n",
    "POSTGRES_PASSWORD = os.getenv(\"POSTGRES_PASSWORD\")\n",
    "POSTGRES_USER = os.getenv(\"POSTGRES_USER\")\n",
    "POSTGRES_DATABASE = os.getenv(\"POSTGRES_DATABASE\")\n",
    "\n",
    "OLLAMA_BASE_URL = \"http://localhost:11434\""
   ]
  },
  {
   "cell_type": "code",
   "execution_count": 2,
   "metadata": {},
   "outputs": [],
   "source": [
    "llm = ChatOllama(model=OLLAMA_MODEL, temperature=0, base_url=OLLAMA_BASE_URL)\n",
    "llm_json = ChatOllama(model=OLLAMA_MODEL, temperature=0, format=\"json\", base_url=OLLAMA_BASE_URL)"
   ]
  },
  {
   "cell_type": "markdown",
   "metadata": {},
   "source": []
  },
  {
   "cell_type": "code",
   "execution_count": 3,
   "metadata": {},
   "outputs": [
    {
     "data": {
      "text/plain": [
       "{'user_query': 'accept'}"
      ]
     },
     "execution_count": 3,
     "metadata": {},
     "output_type": "execute_result"
    }
   ],
   "source": [
    "# Router\n",
    "\n",
    "ROUTER_INSTRUCTIONS = '''You are an expert at determining whether a user question requires access to a database from a smartphone shop. \n",
    "\n",
    "The database schema is as follows:\n",
    "- id (int): The unique identifier of the smartphone. You will not use this.\n",
    "- brand (str): The brand of the smartphone, (eg. 'Apple', 'Google', 'Samsung'...)\n",
    "- model (str): The model of the smartphone (eg. 'iPhone 13 Pro Max', 'Galaxy S21 Ultra', 'Mi 13 Pro'...)\n",
    "- price (int): The price of the smartphone in Singapore Dollars.\n",
    "- stock_status (str): The stock status of the smartphone ('In Stock', 'Out of Stock')\n",
    "\n",
    "For questions related to a smartphone's price or availibility, you should accept the user query since it requires information from the database. For unknown brands or models, you should also approve the query since it may require database access. For all other questions that do not require database access, please reject the query.\n",
    "\n",
    "Return JSON with a single key user_query, that is 'accept' or 'reject' depending on whether the question requires database access.'''\n",
    "\n",
    "question = [HumanMessage(content=\"Hello, what is the price of the iphone 13 mini?\")]\n",
    "\n",
    "test_router_response = llm_json.invoke([SystemMessage(content=ROUTER_INSTRUCTIONS)] + question)\n",
    "\n",
    "json.loads(test_router_response.content)"
   ]
  },
  {
   "cell_type": "code",
   "execution_count": 4,
   "metadata": {},
   "outputs": [],
   "source": [
    "@tool\n",
    "def executePostgreSQLQuery(query: str) -> List:\n",
    "    '''Executes a PostgreSQL query and returns the result as a list of tuples. Please only query the table \"smartphones\".\n",
    "    \n",
    "    Args:\n",
    "        query (str): The PostgreSQL query to be executed.\n",
    "        \n",
    "    Returns:\n",
    "        result (List): The result of the query, a list of tuples (id, brand, model, price, stock_status).\n",
    "    '''\n",
    "\n",
    "    # Connect to database\n",
    "    #print(\"executePostgreSQLQuery tool called with query:\", query)\n",
    "    conn = psycopg2.connect(database=POSTGRES_DATABASE, user=POSTGRES_USER, password=POSTGRES_PASSWORD, host=\"localhost\", port=\"5432\")\n",
    "    #print(\"Database connected successfully.\")\n",
    "    with conn.cursor() as cursor:\n",
    "        try:\n",
    "            #print(\"Executing sql query...\")\n",
    "            cursor.execute(query)\n",
    "            result = cursor.fetchall()\n",
    "        except:\n",
    "            #print(\"Error executing query.\")\n",
    "            conn.close()\n",
    "            return\n",
    "    # Close connection\n",
    "    conn.close()\n",
    "    if result:\n",
    "        #print(\"Database query success\")\n",
    "        return result\n",
    "    else:\n",
    "        return"
   ]
  },
  {
   "cell_type": "code",
   "execution_count": 5,
   "metadata": {},
   "outputs": [
    {
     "data": {
      "text/plain": [
       "'[[10, \"Apple\", \"iPhone 13 Mini\", 999, \"Out of Stock\"]]'"
      ]
     },
     "execution_count": 5,
     "metadata": {},
     "output_type": "execute_result"
    }
   ],
   "source": [
    "# Database query\n",
    "\n",
    "SQL_AGENT_INSTRUCTIONS = '''You are an agent designed to interact with a PostgreSQL database.\n",
    "\n",
    "Given an input question, create a syntactically correct PostgreSQL query to run. Your query should always begin with \"SELECT * FROM smartphones WHERE\" and you can add any conditions you want. Note that all string comparisons should be match case-insensitive and enclosed within single quotes.\n",
    "\n",
    "DO NOT make any DML statements (INSERT, UPDATE, DELETE, DROP etc.) to the database.\n",
    "\n",
    "The database schema is as follows:\n",
    "- id (int): The unique identifier of the smartphone. You will not use this.\n",
    "- brand (str): The brand of the smartphone, (eg. 'Apple', 'Google', 'Samsung'...)\n",
    "- model (str): The model of the smartphone (eg. 'iPhone 13 Pro Max', 'Galaxy S21 Ultra', 'Mi 13 Pro'...)\n",
    "- price (int): The price of the smartphone in Singapore Dollars.\n",
    "- stock_status (str): The stock status of the smartphone ('In Stock', 'Out of Stock')\n",
    "'''\n",
    "\n",
    "\n",
    "question = [HumanMessage(content=\"Hello, what is the price of the iphone 13 mini?\")]\n",
    "\n",
    "llm_with_db = llm.bind_tools([executePostgreSQLQuery])\n",
    "\n",
    "test_sql_agent_response = llm_with_db.invoke([SystemMessage(content=SQL_AGENT_INSTRUCTIONS)] + question)\n",
    "\n",
    "tool_call_result = executePostgreSQLQuery.invoke(test_sql_agent_response.tool_calls[0]).content\n",
    "\n",
    "tool_call_result"
   ]
  },
  {
   "cell_type": "code",
   "execution_count": 6,
   "metadata": {},
   "outputs": [
    {
     "data": {
      "text/plain": [
       "AIMessage(content='', additional_kwargs={}, response_metadata={'model': 'llama3.1:8b', 'created_at': '2025-03-18T17:08:16.807601214Z', 'done': True, 'done_reason': 'stop', 'total_duration': 616027239, 'load_duration': 12306426, 'prompt_eval_count': 445, 'prompt_eval_duration': 25000000, 'eval_count': 37, 'eval_duration': 577000000, 'message': Message(role='assistant', content='', images=None, tool_calls=None)}, id='run-7f9343c6-0314-4ef4-a1fe-7554468162f4-0', tool_calls=[{'name': 'executePostgreSQLQuery', 'args': {'query': \"SELECT * FROM smartphones WHERE brand = 'Apple' AND model = 'iPhone 13 Mini'\"}, 'id': '5ad7d233-7f69-408b-9f3e-f92d7051108f', 'type': 'tool_call'}], usage_metadata={'input_tokens': 445, 'output_tokens': 37, 'total_tokens': 482})"
      ]
     },
     "execution_count": 6,
     "metadata": {},
     "output_type": "execute_result"
    }
   ],
   "source": [
    "test_sql_agent_response"
   ]
  },
  {
   "cell_type": "code",
   "execution_count": 10,
   "metadata": {},
   "outputs": [],
   "source": [
    "# Set up vector store to perform similarity search if no results from database\n",
    "from langchain_community.document_loaders import CSVLoader\n",
    "from langchain_ollama import OllamaEmbeddings\n",
    "from langchain_core.vectorstores import InMemoryVectorStore\n",
    "\n",
    "\n",
    "loader = CSVLoader(file_path='../db/smartphone_inventory_sgd.csv')\n",
    "\n",
    "docs = loader.load()\n",
    "\n",
    "embeddings = OllamaEmbeddings(\n",
    "    model=\"nomic-embed-text:v1.5\",\n",
    ")\n",
    "\n",
    "vectorstore = InMemoryVectorStore.from_documents(\n",
    "    docs,\n",
    "    embedding=embeddings,\n",
    ")"
   ]
  },
  {
   "cell_type": "code",
   "execution_count": 11,
   "metadata": {},
   "outputs": [
    {
     "data": {
      "text/plain": [
       "['Brand: Apple\\nModel: iPhone 13 Mini\\nPrice: 999\\nStock_Status: Out of Stock',\n",
       " 'Brand: Apple\\nModel: iPhone 11 Pro Max\\nPrice: 1399\\nStock_Status: In Stock',\n",
       " 'Brand: Apple\\nModel: iPhone 14 Pro Max\\nPrice: 1599\\nStock_Status: In Stock',\n",
       " 'Brand: Apple\\nModel: iPhone 13\\nPrice: 1099\\nStock_Status: In Stock']"
      ]
     },
     "execution_count": 11,
     "metadata": {},
     "output_type": "execute_result"
    }
   ],
   "source": [
    "# Retrieval tool\n",
    "\n",
    "question = \"Do you have an iPhone 13 pro for sale?\"\n",
    "\n",
    "retriever = vectorstore.as_retriever(k=3)\n",
    "\n",
    "retrieved_docs = retriever.invoke(question)\n",
    "\n",
    "retrieved_content = [retrieved_docs[i].page_content for i in range(0, len(retrieved_docs))]\n",
    "\n",
    "retrieved_content = [re.sub(r\"^ID: \\d+\\n\", \"\", entry) for entry in retrieved_content]\n",
    "\n",
    "retrieved_content"
   ]
  },
  {
   "cell_type": "code",
   "execution_count": 12,
   "metadata": {},
   "outputs": [],
   "source": [
    "@tool\n",
    "def retrieveFromVectorDB(query: str) -> List:\n",
    "    '''A tool that performs similarity search on a vector database to retrieve results similar to the given query.\n",
    "    \n",
    "    Args:\n",
    "        query (str): The user's question\n",
    "    \n",
    "    Returns:\n",
    "        result (List): A list of similar results from the vector database.'''\n",
    "\n",
    "    retrieved_docs = retriever.invoke(question)\n",
    "    \n",
    "    # Extracts the content from the document object\n",
    "    result = [retrieved_docs[i].page_content for i in range(0, len(retrieved_docs))]\n",
    "\n",
    "    # Remove the ID column from the results\n",
    "    result = [re.sub(r\"^ID: \\d+\\n\", \"\", entry) for entry in result]\n",
    "    \n",
    "    return result"
   ]
  },
  {
   "cell_type": "code",
   "execution_count": 13,
   "metadata": {},
   "outputs": [
    {
     "data": {
      "text/plain": [
       "{'grader_score': 'no',\n",
       " 'justify': 'The database does not contain any information about the iPhone 13 Pro. The available data only includes information about the iPhone 13 Mini, iPhone 11 Pro Max, iPhone 14 Pro Max, and iPhone 13.'}"
      ]
     },
     "execution_count": 13,
     "metadata": {},
     "output_type": "execute_result"
    }
   ],
   "source": [
    "# Grader\n",
    "\n",
    "GRADER_INSTRUCTIONS = '''You are an expert grader that will be provided with data from a smartphone store's database and a user question.\n",
    "If the database contains information that can answer the user's question, grade it as 'yes'. Please also justify your choice, explaining why \n",
    "the database information contains information related to the user's question. \n",
    "\n",
    "Return JSON with two keys; \n",
    "\n",
    "grader_score: either 'yes' or 'no' to indicate whether the user's question can be answered with the data provided\n",
    "\n",
    "justify: explain your rationale for grader_score.\n",
    "\n",
    "Example:\n",
    "\n",
    "question: Can I know the price of the iPhone 13 Pro?\n",
    "data: null\n",
    "retrieved_content: ['Brand: Apple\\nModel: iPhone 13\\nPrice: 1099\\nStock_Status: In Stock']\n",
    "\n",
    "Response:\n",
    "{'grader_score': 'no',\n",
    " 'justify': \"The results suggest that the database does not contain any information about the price of the iPhone 13 Pro. These should be suggested as alternatives.\"}\n",
    "'''\n",
    "\n",
    "GRADER_PROMPT = '''Here is the data provided: \\n\\n {data} Here is some additional information (if available): \\n\\n {retrieved_content} \\n\\n Here is the user's question: \\n\\n {question}'''\n",
    "\n",
    "\n",
    "grader_prompt_formatted = GRADER_PROMPT.format(data=tool_call_result, question=question, retrieved_content=retrieved_content)\n",
    "\n",
    "test_grader_response = llm_json.invoke([SystemMessage(content=GRADER_INSTRUCTIONS)] + [HumanMessage(content=grader_prompt_formatted)])\n",
    "\n",
    "json.loads(test_grader_response.content)"
   ]
  },
  {
   "cell_type": "code",
   "execution_count": 14,
   "metadata": {},
   "outputs": [
    {
     "name": "stdout",
     "output_type": "stream",
     "text": [
      "Unfortunately, we do not have an iPhone 13 Pro for sale. However, here are some alternative options that are available:\n",
      "\n",
      "| Brand | Model | Price | Stock Status |\n",
      "| --- | --- | --- | --- |\n",
      "| Apple | iPhone 11 Pro Max | 1399 | In Stock |\n",
      "| Apple | iPhone 14 Pro Max | 1599 | In Stock |\n",
      "| Apple | iPhone 13 | 1099 | In Stock |\n",
      "\n",
      "Please note that the iPhone 13 Mini is also available, but it's currently out of stock.\n"
     ]
    }
   ],
   "source": [
    "# Generate response\n",
    "\n",
    "RAG_PROMPT = '''You are a friendly assistant that helps to answer users' queries about smartphones.\n",
    "\n",
    "You will only use the context to answer the user question. Always give the user suggestions based on the given context only.\n",
    "\n",
    "Here is the context from the database:\n",
    "\n",
    "{context} \n",
    "\n",
    "Here is the user's question:\n",
    "\n",
    "{question}\n",
    "\n",
    "Here is what a grader has to say about the data to help you with your response:\n",
    "\n",
    "{feedback}\n",
    "\n",
    "Please structure your response in a tabular format:\n",
    "\n",
    "<Brand> <Model> <Price> <Stock Status>\n",
    "'''\n",
    "\n",
    "rag_prompt_formatted = RAG_PROMPT.format(context=[tool_call_result] + retrieved_content, question=question, feedback=test_grader_response.content)\n",
    "\n",
    "test_generate_response = llm.invoke([HumanMessage(content=rag_prompt_formatted)])\n",
    "\n",
    "print(test_generate_response.content)"
   ]
  },
  {
   "cell_type": "code",
   "execution_count": 15,
   "metadata": {},
   "outputs": [],
   "source": [
    "class State(TypedDict):\n",
    "    messages: Annotated[Sequence[BaseMessage], add_messages]\n",
    "    tool_call_result: List\n",
    "    grader_score: Literal['yes', 'no']\n",
    "    justify: str\n",
    "    retrieved_content: List\n",
    "    "
   ]
  },
  {
   "cell_type": "code",
   "execution_count": 16,
   "metadata": {},
   "outputs": [],
   "source": [
    "# Converting everything above into a function\n",
    "\n",
    "# Edges\n",
    "\n",
    "def route_to_vectordb(state) -> Literal[\"vector\", \"grade\"]:\n",
    "    '''Determines whether to perform similarity search on a vector database.\n",
    "    \n",
    "    Args:\n",
    "        state (State): The current state of the agent.\n",
    "    \n",
    "    Returns:\n",
    "        str: Calls the grader node if there is no need to access the vector database. Otherwise, call the retrieval tool'''\n",
    "\n",
    "    if state['tool_call_result'].content == 'null':\n",
    "        return \"vector\"\n",
    "    else:\n",
    "        return \"grade\"\n",
    "\n",
    "def router(state) -> Literal[\"accept\", \"reject\"]:\n",
    "    '''Determines whether the user query requires access to the database.\n",
    "    \n",
    "    Args:\n",
    "        state (State): The current state of the agent.\n",
    "    \n",
    "    Returns:\n",
    "        str: Either calls the sql_agent node or generates a response directly based on the user query.'''\n",
    "    \n",
    "    # Take the first message in the state to get the user question\n",
    "    question = state[\"messages\"][-1]\n",
    "\n",
    "    # Get the AIResponse containing a JSON object to indicate whether database access is accepted or rejected\n",
    "    router_response = llm_json.invoke([SystemMessage(content=ROUTER_INSTRUCTIONS)] + [question])\n",
    "    # print(\"Processing user query...\")\n",
    "    user_query = json.loads(router_response.content)\n",
    "\n",
    "    if user_query.get(\"user_query\") == \"accept\":\n",
    "        # print(\"The user's query requires access to the database.\")\n",
    "        return \"accept\"\n",
    "    else:\n",
    "        # print(\"The user's query does not require access to the database.\")\n",
    "        return \"reject\"\n",
    "\n",
    "# Nodes\n",
    "\n",
    "def grader(state):\n",
    "    '''Determines whether the results from the database can answer the user's question. If not, suggest alternatives or inform the user that the information is not available.\n",
    "    \n",
    "    Args:\n",
    "        state (State): The current state of the agent.\n",
    "    \n",
    "    Returns:\n",
    "        dict: The updated state with the grader score and justification.'''\n",
    "    \n",
    "    llm_json = ChatOllama(model=OLLAMA_MODEL, temperature=0, format=\"json\", base_url=OLLAMA_BASE_URL)\n",
    "\n",
    "    # Take the first message in the state to get the user question\n",
    "    question = state[\"messages\"][-1].content\n",
    "\n",
    "    # Get the tool call result from the state\n",
    "    tool_call_result = state[\"tool_call_result\"]\n",
    "\n",
    "    retrieved_content = state[\"retrieved_content\"]\n",
    "\n",
    "    # Format the system prompt sent to the llm with context from the database and user question\n",
    "    grader_prompt_formatted = GRADER_PROMPT.format(data=tool_call_result, question=question, retrieved_content=retrieved_content)\n",
    "\n",
    "    grader_response = llm_json.invoke([SystemMessage(content=GRADER_INSTRUCTIONS)] + [HumanMessage(content=grader_prompt_formatted)])\n",
    "    # print(\"Grading the results from the database...\")\n",
    "    grader_score = json.loads(grader_response.content)\n",
    "    \n",
    "    return {\"grader_score\": grader_score.get(\"grader_score\"), \"justify\": grader_score.get(\"justify\")}\n",
    "\n",
    "\n",
    "def sql_agent(state):\n",
    "    '''Generate a SQL query based on the user question and executes it.\n",
    "    \n",
    "    Args:\n",
    "        state (State): The current state of the agent.\n",
    "        \n",
    "    Returns:\n",
    "        dict: The updated state with the tool call result appended.'''\n",
    "\n",
    "    llm = ChatOllama(model=OLLAMA_MODEL, temperature=0, base_url=OLLAMA_BASE_URL)\n",
    "\n",
    "    # In this case, only one tool is present, so I am hardcoding it\n",
    "    # state['tools'] = StructuredTool object\n",
    "    llm_with_db = llm.bind_tools([executePostgreSQLQuery])\n",
    "\n",
    "    # Take the first message in the state to get the user question\n",
    "    question = state[\"messages\"][-1]\n",
    "\n",
    "    # The AIResponse containing the tool call and the sql query to be performed\n",
    "    sql_agent_response = llm_with_db.invoke([SystemMessage(content=SQL_AGENT_INSTRUCTIONS)] + [question])\n",
    "    \n",
    "    # print(\"Generating SQL query to execute...\")\n",
    "    # Execute the sql query and return the result\n",
    "    tool_call_result = executePostgreSQLQuery.invoke(sql_agent_response.tool_calls[0])\n",
    "    # print(f\"Executing SQL query: {sql_agent_response.tool_calls[0].get('args').get('query')} \")\n",
    "\n",
    "    return {\"tool_call_result\": tool_call_result}\n",
    "\n",
    "def retrieve_agent(state):\n",
    "    '''Performs similarity search on a vector database to retrieve results similar to the given query.\n",
    "    \n",
    "    Args:\n",
    "        state (State): The current state of the agent.\n",
    "    \n",
    "    Returns:\n",
    "        dict: The updated state with the retrieval result appended.'''\n",
    "    question = state[\"messages\"][-1]\n",
    "\n",
    "    retrieved_content = retrieveFromVectorDB(question.content)\n",
    "\n",
    "    return {\"retrieved_content\": retrieved_content}\n",
    "\n",
    "def generate_response(state):\n",
    "    '''Generate response to user query based on the context and user question.\n",
    "    \n",
    "    Args:\n",
    "        state (State): The current state of the agent.\n",
    "        \n",
    "    Returns:\n",
    "        dict: The updated state with the final response to the user query.'''\n",
    "\n",
    "    # Take the first message in the state to get the user question\n",
    "\n",
    "    question = state[\"messages\"][-1].content\n",
    "\n",
    "    # Get the tool call result from the state\n",
    "    tool_call_result = state[\"tool_call_result\"]\n",
    "\n",
    "    retrieved_content = state[\"retrieved_content\"]\n",
    "\n",
    "    justify = state[\"justify\"]\n",
    "    \n",
    "    # Format the system prompt sent to the llm with context and user question\n",
    "    rag_prompt_formatted = RAG_PROMPT.format(context=[tool_call_result] + retrieved_content, question=question, feedback=justify)\n",
    "\n",
    "    generate_response = llm.invoke([HumanMessage(content=rag_prompt_formatted)])\n",
    "\n",
    "    return {\"messages\": [generate_response]}\n"
   ]
  },
  {
   "cell_type": "code",
   "execution_count": 17,
   "metadata": {},
   "outputs": [
    {
     "data": {
      "text/plain": [
       "<langgraph.graph.state.StateGraph at 0x21eb8b83b20>"
      ]
     },
     "execution_count": 17,
     "metadata": {},
     "output_type": "execute_result"
    }
   ],
   "source": [
    "workflow = StateGraph(State)\n",
    "\n",
    "workflow.add_node(\"sql_agent\", sql_agent)\n",
    "workflow.add_node(\"retrieve_agent\", retrieve_agent)\n",
    "workflow.add_node(\"generate_response\", generate_response)\n",
    "workflow.add_node(\"grader\", grader)\n",
    "workflow.set_conditional_entry_point(\n",
    "    router,\n",
    "    {\n",
    "        \"accept\": \"sql_agent\",\n",
    "        \"reject\": \"retrieve_agent\"\n",
    "    }\n",
    ")\n",
    "\n",
    "workflow.add_conditional_edges(\n",
    "    \"sql_agent\",\n",
    "    route_to_vectordb,\n",
    "    {\n",
    "        \"vector\": \"retrieve_agent\",\n",
    "        \"grade\": \"grader\"\n",
    "    }\n",
    ")\n",
    "\n",
    "# should add like a max number of retries, if no go back to sql_agent\n",
    "\n",
    "workflow.add_edge(\"grader\", \"generate_response\")\n",
    "workflow.add_edge(\"retrieve_agent\", \"grader\")"
   ]
  },
  {
   "cell_type": "code",
   "execution_count": 18,
   "metadata": {},
   "outputs": [
    {
     "data": {
      "image/png": "[encoded data removed]",
      "text/plain": [
       "<IPython.core.display.Image object>"
      ]
     },
     "metadata": {},
     "output_type": "display_data"
    }
   ],
   "source": [
    "checkpointer = MemorySaver()\n",
    "\n",
    "graph = workflow.compile(checkpointer=checkpointer)\n",
    "\n",
    "# graph = workflow.compile()\n",
    "\n",
    "display(Image(graph.get_graph().draw_mermaid_png()))"
   ]
  },
  {
   "cell_type": "code",
   "execution_count": 19,
   "metadata": {},
   "outputs": [
    {
     "name": "stdout",
     "output_type": "stream",
     "text": [
      "[[10, \"Apple\", \"iPhone 13 Mini\", 999, \"Out of Stock\"]]\n"
     ]
    }
   ],
   "source": [
    "print(tool_call_result)"
   ]
  },
  {
   "cell_type": "code",
   "execution_count": 20,
   "metadata": {},
   "outputs": [],
   "source": [
    "import uuid\n",
    "inputs = \"Hello, what is the price of the iPhone 13 Pro?\""
   ]
  },
  {
   "cell_type": "code",
   "execution_count": 22,
   "metadata": {},
   "outputs": [
    {
     "name": "stderr",
     "output_type": "stream",
     "text": [
      "C:\\Users\\aaron\\AppData\\Local\\Temp\\ipykernel_42376\\2658188150.py:112: LangChainDeprecationWarning: The method `BaseTool.__call__` was deprecated in langchain-core 0.1.47 and will be removed in 1.0. Use :meth:`~invoke` instead.\n",
      "  retrieved_content = retrieveFromVectorDB(question.content)\n"
     ]
    },
    {
     "name": "stdout",
     "output_type": "stream",
     "text": [
      "Unfortunately, I couldn't find any information about the price of the iPhone 13 Pro in our database. However, here are some other iPhone models that we do have details for:\n",
      "\n",
      "| Brand | Model | Price | Stock Status |\n",
      "| --- | --- | --- | --- |\n",
      "| Apple | iPhone 13 Mini | 999 | Out of Stock |\n",
      "| Apple | iPhone 11 Pro Max | 1399 | In Stock |\n",
      "| Apple | iPhone 14 Pro Max | 1599 | In Stock |\n",
      "| Apple | iPhone 13 | 1099 | In Stock |\n",
      "\n",
      "If you're interested in purchasing an iPhone, I can suggest considering the available models listed above."
     ]
    }
   ],
   "source": [
    "prompt = {\n",
    "    \"messages\": [HumanMessage(content=inputs)],\n",
    "    \"tool_call_result\": [],\n",
    "    \"grader_score\": \"\",\n",
    "    \"justify\": \"\",\n",
    "    \"retrieved_content\": []\n",
    "    }\n",
    "config = {\"configurable\": {\"thread_id\": uuid.uuid4()}}\n",
    "\n",
    "for output, metadata in graph.stream(prompt, config, stream_mode=\"messages\"):\n",
    "    if metadata['langgraph_node'] == 'generate_response':\n",
    "        print(output.content, end='', flush=True)\n",
    "\n"
   ]
  },
  {
   "cell_type": "code",
   "execution_count": null,
   "metadata": {},
   "outputs": [],
   "source": []
  }
 ],
 "metadata": {
  "kernelspec": {
   "display_name": ".venv",
   "language": "python",
   "name": "python3"
  },
  "language_info": {
   "codemirror_mode": {
    "name": "ipython",
    "version": 3
   },
   "file_extension": ".py",
   "mimetype": "text/x-python",
   "name": "python",
   "nbconvert_exporter": "python",
   "pygments_lexer": "ipython3",
   "version": "3.10.11"
  }
 },
 "nbformat": 4,
 "nbformat_minor": 2
}
