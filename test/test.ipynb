{
 "cells": [
  {
   "cell_type": "code",
   "execution_count": 218,
   "metadata": {},
   "outputs": [],
   "source": [
    "from langchain_core.tools import tool\n",
    "from langchain_ollama import ChatOllama\n",
    "from langchain_core.messages import SystemMessage, HumanMessage, ToolMessage\n",
    "from langchain_core.tools import tool\n",
    "from langchain_core.messages import BaseMessage\n",
    "from langgraph.graph.message import add_messages\n",
    "from langgraph.graph import END, StateGraph, START\n",
    "from langgraph.checkpoint.memory import MemorySaver\n",
    "from dotenv import load_dotenv\n",
    "from typing import List, Tuple, Annotated, Sequence, Literal\n",
    "from typing_extensions import TypedDict\n",
    "from IPython.display import Image, display\n",
    "import psycopg2\n",
    "import os\n",
    "import json\n",
    "import logging\n",
    "\n",
    "load_dotenv()\n",
    "\n",
    "OLLAMA_MODEL = \"llama3.1:8b\"\n",
    "POSTGRES_PASSWORD = os.getenv(\"POSTGRES_PASSWORD\")\n",
    "POSTGRES_USER = os.getenv(\"POSTGRES_USER\")\n",
    "POSTGRES_DATABASE = os.getenv(\"POSTGRES_DATABASE\")\n",
    "\n",
    "OLLAMA_BASE_URL = \"100.110.219.100:11434\""
   ]
  },
  {
   "cell_type": "code",
   "execution_count": 219,
   "metadata": {},
   "outputs": [],
   "source": [
    "llm = ChatOllama(model=OLLAMA_MODEL, temperature=0, base_url=OLLAMA_BASE_URL)\n",
    "llm_json = ChatOllama(model=OLLAMA_MODEL, temperature=0, format=\"json\", base_url=OLLAMA_BASE_URL)"
   ]
  },
  {
   "cell_type": "code",
   "execution_count": 252,
   "metadata": {},
   "outputs": [
    {
     "data": {
      "text/plain": [
       "{'user_query': 'accept'}"
      ]
     },
     "execution_count": 252,
     "metadata": {},
     "output_type": "execute_result"
    }
   ],
   "source": [
    "# Router\n",
    "\n",
    "ROUTER_INSTRUCTIONS = '''You are an expert at determining whether a user question requires access to a database from a smartphone shop. \n",
    "\n",
    "The database schema is as follows:\n",
    "- id (int): The unique identifier of the smartphone. You will not use this.\n",
    "- brand (str): The brand of the smartphone, (eg. 'Apple', 'Google', 'Samsung'...)\n",
    "- model (str): The model of the smartphone (eg. 'iPhone 13 Pro Max', 'Galaxy S21 Ultra', 'Mi 13 Pro'...)\n",
    "- price (int): The price of the smartphone in Singapore Dollars.\n",
    "- stock_status (str): The stock status of the smartphone ('In Stock', 'Out of Stock')\n",
    "\n",
    "For questions related to a smartphone's price or availibility, you should accept the user query since it requires information from the database. For unknown brands or models, you should also approve the query since it may require database access. For all other questions that do not require database access, please reject the query.\n",
    "\n",
    "Return JSON with a single key user_query, that is 'accept' or 'reject' depending on whether the question requires database access.'''\n",
    "\n",
    "question = [HumanMessage(content=\"Hello, what is the price of the iphone 13 mini?\")]\n",
    "\n",
    "test_router_response = llm_json.invoke([SystemMessage(content=ROUTER_INSTRUCTIONS)] + question)\n",
    "\n",
    "json.loads(test_router_response.content)"
   ]
  },
  {
   "cell_type": "code",
   "execution_count": 253,
   "metadata": {},
   "outputs": [],
   "source": [
    "@tool\n",
    "def executePostgreSQLQuery(query: str) -> List[Tuple[int, str, str, int, str]]:\n",
    "    '''Executes a PostgreSQL query and returns the result as a list of tuples. Please only query the table \"smartphones\".\n",
    "    \n",
    "    Args:\n",
    "        query (str): The PostgreSQL query to be executed.\n",
    "        \n",
    "    Returns:\n",
    "        result (List[Tuple[int, str, str, int, str]]): The result of the query, a list of tuples (id, brand, model, price, stock_status).\n",
    "    '''\n",
    "\n",
    "    # Connect to database\n",
    "    # print(\"executePostgreSQLQuery tool called!\")\n",
    "    conn = psycopg2.connect(database=POSTGRES_DATABASE, user=POSTGRES_USER, password=POSTGRES_PASSWORD, host=\"localhost\", port=\"5432\")\n",
    "    # print(\"Database connected successfully.\")\n",
    "    with conn.cursor() as cursor:\n",
    "        try:\n",
    "            # print(\"Executing sql query...\")\n",
    "            cursor.execute(query)\n",
    "            result = cursor.fetchall()\n",
    "        except:\n",
    "            # print(\"Error executing query.\")\n",
    "            conn.close()\n",
    "            return\n",
    "    # Close connection\n",
    "    conn.close()\n",
    "    if result:\n",
    "        # print(\"Database query success\")\n",
    "        return result\n",
    "    else:\n",
    "        return \"No results found.\""
   ]
  },
  {
   "cell_type": "code",
   "execution_count": 254,
   "metadata": {},
   "outputs": [
    {
     "data": {
      "text/plain": [
       "'[[10, \"Apple\", \"iPhone 13 Mini\", 999, \"Out of Stock\"]]'"
      ]
     },
     "execution_count": 254,
     "metadata": {},
     "output_type": "execute_result"
    }
   ],
   "source": [
    "# Database query\n",
    "\n",
    "SQL_AGENT_INSTRUCTIONS = '''You are an agent designed to interact with a PostgreSQL database.\n",
    "\n",
    "Given an input question, create a syntactically correct PostgreSQL query to run. Your query should always begin with \"SELECT * FROM smartphones WHERE\" and you can add any conditions you want. Note that all string comparisons should be match case-insensitive and enclosed within single quotes.\n",
    "\n",
    "DO NOT make any DML statements (INSERT, UPDATE, DELETE, DROP etc.) to the database.\n",
    "\n",
    "The database schema is as follows:\n",
    "- id (int): The unique identifier of the smartphone. You will not use this.\n",
    "- brand (str): The brand of the smartphone, (eg. 'Apple', 'Google', 'Samsung'...)\n",
    "- model (str): The model of the smartphone (eg. 'iPhone 13 Pro Max', 'Galaxy S21 Ultra', 'Mi 13 Pro'...)\n",
    "- price (int): The price of the smartphone in Singapore Dollars.\n",
    "- stock_status (str): The stock status of the smartphone ('In Stock', 'Out of Stock')\n",
    "'''\n",
    "\n",
    "\n",
    "question = [HumanMessage(content=\"Hello, what is the price of the iphone 13 mini?\")]\n",
    "\n",
    "llm_with_db = llm.bind_tools([executePostgreSQLQuery])\n",
    "\n",
    "test_sql_agent_response = llm_with_db.invoke([SystemMessage(content=SQL_AGENT_INSTRUCTIONS)] + question)\n",
    "\n",
    "tool_call_result = executePostgreSQLQuery.invoke(test_sql_agent_response.tool_calls[0]).content\n",
    "\n",
    "tool_call_result"
   ]
  },
  {
   "cell_type": "code",
   "execution_count": 255,
   "metadata": {},
   "outputs": [
    {
     "data": {
      "text/plain": [
       "AIMessage(content='', additional_kwargs={}, response_metadata={'model': 'llama3.1:8b', 'created_at': '2025-03-17T07:40:44.7963767Z', 'done': True, 'done_reason': 'stop', 'total_duration': 427010995, 'load_duration': 27766612, 'prompt_eval_count': 457, 'prompt_eval_duration': 24000000, 'eval_count': 37, 'eval_duration': 374000000, 'message': Message(role='assistant', content='', images=None, tool_calls=None)}, id='run-3f1da5b1-b757-4fe6-afe9-a475c05fdf2c-0', tool_calls=[{'name': 'executePostgreSQLQuery', 'args': {'query': \"SELECT * FROM smartphones WHERE brand = 'Apple' AND model = 'iPhone 13 Mini'\"}, 'id': '0eea0b14-665b-4cbf-b107-5444accd1eca', 'type': 'tool_call'}], usage_metadata={'input_tokens': 457, 'output_tokens': 37, 'total_tokens': 494})"
      ]
     },
     "execution_count": 255,
     "metadata": {},
     "output_type": "execute_result"
    }
   ],
   "source": [
    "test_sql_agent_response"
   ]
  },
  {
   "cell_type": "code",
   "execution_count": 256,
   "metadata": {},
   "outputs": [
    {
     "name": "stdout",
     "output_type": "stream",
     "text": [
      "We have an iPhone 13 Mini available in our database. The price for this model is $999. However, we currently do not have it in stock.\n",
      "\n",
      "If you're interested in purchasing a similar device, I can suggest considering other models such as the iPhone 13 or checking back with us when new stock arrives.\n"
     ]
    }
   ],
   "source": [
    "# Generate response\n",
    "\n",
    "RAG_PROMPT = '''You are an assistant that helps to answer users' queries about smartphone pricing and availibility.\n",
    "Here is the context to use to answer the question, a database query response that contains ONLY information about the requested smartphone(s) brand, model, price, and availibility. \n",
    "If the requested smartphone is not found in the database, please inform the user that you do not sell this model.\n",
    "For all other specifications like storage, colour, etc. please inform the user that you do not have the information. \n",
    "Inform the user politely instead of giving incorrect data, suggesting alternative models instead. Offer suggestions if customers type incomplete or ambiguous queries (e.g., \"Did you mean iPhone 13 Pro or iPhone 13 Mini?\"):\n",
    "\n",
    "{context} \n",
    "\n",
    "Here is the user's question:\n",
    "\n",
    "{question}\n",
    "\n",
    "Convey all information to the user.\n",
    "Answer:'''\n",
    "\n",
    "rag_prompt_formatted = RAG_PROMPT.format(context=tool_call_result, question=question)\n",
    "\n",
    "test_generate_response = llm.invoke([HumanMessage(content=rag_prompt_formatted)])\n",
    "\n",
    "print(test_generate_response.content)"
   ]
  },
  {
   "cell_type": "code",
   "execution_count": 257,
   "metadata": {},
   "outputs": [
    {
     "data": {
      "text/plain": [
       "{'grader_score': 'yes',\n",
       " 'justification': \"The database contains information about the iPhone 13 Mini, including its price and availability status, which matches the LLM's output.\"}"
      ]
     },
     "execution_count": 257,
     "metadata": {},
     "output_type": "execute_result"
    }
   ],
   "source": [
    "# Grader\n",
    "\n",
    "GRADER_INSTRUCTIONS = '''You are an expert grader that will be provided with data from a smartphone store's database and another LLM's output. Your role\n",
    "is to spot hallucinated outputs by an LLM.\n",
    "If the database contains information that matches the LLM output, grade it as 'yes'. If there are no matching results, 'No results found' will be returned by the database.\n",
    "This means that the smartphone that the user has requested is not legitimate/not present in the smartphones' database.\n",
    "\n",
    "Example:\n",
    "{'grader_score': 'no',\n",
    " 'justification': \"The database does not contain any information about the price of the iPhone 13 Pro, so it's likely that the LLM made something up.\"}\n",
    "\n",
    "Return JSON with two keys; grader_score: either 'yes' or 'no' to indicate whether the user's question can be answered with the data provided, and\n",
    "justification: explain your rationale for grader_score.'''\n",
    "\n",
    "GRADER_PROMPT = '''Here is the data provided: \\n\\n {data} \\n\\n Here is the LLM output: \\n\\n {llm_output}'''\n",
    "\n",
    "\n",
    "grader_prompt_formatted = GRADER_PROMPT.format(data=tool_call_result, llm_output=test_generate_response.content)\n",
    "\n",
    "test_grader_response = llm_json.invoke([SystemMessage(content=GRADER_INSTRUCTIONS)] + [HumanMessage(content=grader_prompt_formatted)])\n",
    "\n",
    "json.loads(test_grader_response.content)"
   ]
  },
  {
   "cell_type": "code",
   "execution_count": 229,
   "metadata": {},
   "outputs": [
    {
     "name": "stdout",
     "output_type": "stream",
     "text": [
      "I'm happy to help you with your query about the iPhone 13 Pro. Unfortunately, I don't have any information about this model in our database. We do not sell this specific model.\n",
      "\n",
      "However, if you're interested in purchasing an iPhone, we have other models available. For example, we have the iPhone 12 series and the latest iPhone 14 series. Would you like me to suggest some alternative options?\n"
     ]
    }
   ],
   "source": [
    "rag_prompt_formatted = RAG_PROMPT.format(context=[tool_call_result + test_grader_response.content], question=question)\n",
    "\n",
    "test_generate_response = llm.invoke([HumanMessage(content=rag_prompt_formatted)])\n",
    "\n",
    "print(test_generate_response.content)"
   ]
  },
  {
   "cell_type": "code",
   "execution_count": 190,
   "metadata": {},
   "outputs": [],
   "source": [
    "class State(TypedDict):\n",
    "    messages: Annotated[Sequence[BaseMessage], add_messages]\n",
    "    tool_call_result: List"
   ]
  },
  {
   "cell_type": "code",
   "execution_count": null,
   "metadata": {},
   "outputs": [],
   "source": [
    "# Converting everything above into a function\n",
    "\n",
    "# Edges\n",
    "\n",
    "def grader(state) -> Literal[\"yes\", \"no\"]:\n",
    "    '''Determines whether the results from the database can answer the user's question. If not, suggest alternatives or inform the user that the information is not available.\n",
    "    \n",
    "    Args:\n",
    "        state (State): The current state of the agent.\n",
    "    \n",
    "    Returns:\n",
    "        str: A decision by the model for whether the user's question can be answered with the data provided.'''\n",
    "    \n",
    "    llm_json = ChatOllama(model=OLLAMA_MODEL, temperature=0, format=\"json\", base_url=OLLAMA_BASE_URL)\n",
    "\n",
    "    # Take the first message in the state to get the user question\n",
    "    question = state[\"messages\"][-1].content\n",
    "\n",
    "    # Get the tool call result from the state\n",
    "    tool_call_result = state[\"tool_call_result\"]\n",
    "\n",
    "    # Format the system prompt sent to the llm with context from the database and user question\n",
    "    grader_prompt_formatted = GRADER_PROMPT.format(data=tool_call_result, question=question)\n",
    "\n",
    "    grader_response = llm_json.invoke([SystemMessage(content=GRADER_INSTRUCTIONS)] + [HumanMessage(content=grader_prompt_formatted)])\n",
    "    # print(\"Grading the results from the database...\")\n",
    "    grader_score = json.loads(grader_response.content)\n",
    "    \n",
    "    if grader_score.get(\"grader_score\") == \"yes\":\n",
    "        # print(\"The user's question can be answered with the data provided.\")\n",
    "        return \"yes\"\n",
    "    else:\n",
    "        # print(\"The user's question cannot be answered with the data provided.\")\n",
    "        return \"no\"\n",
    "\n",
    "def router(state) -> Literal[\"accept\", \"reject\"]:\n",
    "    '''Determines whether the user query requires access to the database.\n",
    "    \n",
    "    Args:\n",
    "        state (State): The current state of the agent.\n",
    "    \n",
    "    Returns:\n",
    "        str: Either calls the sql_agent node or generates a response directly based on the user query.'''\n",
    "    \n",
    "    # Take the first message in the state to get the user question\n",
    "    question = state[\"messages\"][-1]\n",
    "\n",
    "    # Get the AIResponse containing a JSON object to indicate whether database access is accepted or rejected\n",
    "    router_response = llm_json.invoke([SystemMessage(content=ROUTER_INSTRUCTIONS)] + [question])\n",
    "    # print(\"Processing user query...\")\n",
    "    user_query = json.loads(router_response.content)\n",
    "\n",
    "    if user_query.get(\"user_query\") == \"accept\":\n",
    "        # print(\"The user's query requires access to the database.\")\n",
    "        return \"accept\"\n",
    "    else:\n",
    "        # print(\"The user's query does not require access to the database.\")\n",
    "        return \"reject\"\n",
    "\n",
    "# Nodes\n",
    "def sql_agent(state):\n",
    "    '''Generate a SQL query based on the user question and executes it.\n",
    "    \n",
    "    Args:\n",
    "        state (State): The current state of the agent.\n",
    "        \n",
    "    Returns:\n",
    "        dict: The updated state with the tool call result appended to messages.'''\n",
    "\n",
    "    llm = ChatOllama(model=OLLAMA_MODEL, temperature=0, base_url=OLLAMA_BASE_URL)\n",
    "\n",
    "    # In this case, only one tool is present, so I am hardcoding it\n",
    "    # state['tools'] = StructuredTool object\n",
    "    llm_with_db = llm.bind_tools([executePostgreSQLQuery])\n",
    "\n",
    "    # Take the first message in the state to get the user question\n",
    "    question = state[\"messages\"][-1]\n",
    "\n",
    "    # The AIResponse containing the tool call and the sql query to be performed\n",
    "    sql_agent_response = llm_with_db.invoke([SystemMessage(content=SQL_AGENT_INSTRUCTIONS)] + [question])\n",
    "    \n",
    "    # print(\"Generating SQL query to execute...\")\n",
    "    # Execute the sql query and return the result\n",
    "    tool_call_result = executePostgreSQLQuery.invoke(sql_agent_response.tool_calls[0])\n",
    "    # print(f\"Executing SQL query: {sql_agent_response.tool_calls[0].get('args').get('query')} \")\n",
    "\n",
    "    return {\"tool_call_result\": tool_call_result}\n",
    "\n",
    "def generate_response(state):\n",
    "    '''Generate response to user query based on the context and user question.\n",
    "    \n",
    "    Args:\n",
    "        state (State): The current state of the agent.\n",
    "        \n",
    "    Returns:\n",
    "        dict: The updated state with the final response to the user query.'''\n",
    "\n",
    "    # Take the first message in the state to get the user question\n",
    "\n",
    "    question = state[\"messages\"][-1].content\n",
    "\n",
    "    # Get the tool call result from the state\n",
    "    tool_call_result = state[\"tool_call_result\"]\n",
    "    \n",
    "    # Format the system prompt sent to the llm with context and user question\n",
    "    rag_prompt_formatted = RAG_PROMPT.format(context=tool_call_result, question=question)\n",
    "\n",
    "    generate_response = llm.invoke([HumanMessage(content=rag_prompt_formatted)])\n",
    "\n",
    "    return {\"messages\": [generate_response]}\n"
   ]
  },
  {
   "cell_type": "code",
   "execution_count": 250,
   "metadata": {},
   "outputs": [
    {
     "data": {
      "text/plain": [
       "<langgraph.graph.state.StateGraph at 0x174ab6c5a90>"
      ]
     },
     "execution_count": 250,
     "metadata": {},
     "output_type": "execute_result"
    }
   ],
   "source": [
    "workflow = StateGraph(State)\n",
    "\n",
    "workflow.add_node(\"sql_agent\", sql_agent)\n",
    "workflow.add_node(\"generate_response\", generate_response)\n",
    "\n",
    "workflow.set_conditional_entry_point(\n",
    "    router,\n",
    "    {\n",
    "        \"accept\": \"sql_agent\",\n",
    "        \"reject\": \"generate_response\"\n",
    "    }\n",
    ")\n",
    "\n",
    "# should add like a max number of retries, if no go back to sql_agent\n",
    "workflow.add_conditional_edges(\n",
    "    \"generate_response\",\n",
    "    grader,\n",
    "    {\n",
    "        \"yes\": END,\n",
    "        \"no\": \"generate_response\"\n",
    "    }\n",
    ")\n",
    "\n",
    "workflow.add_edge(\"sql_agent\", \"generate_response\")"
   ]
  },
  {
   "cell_type": "code",
   "execution_count": 251,
   "metadata": {},
   "outputs": [
    {
     "data": {
      "image/png": "[encoded data removed]",
      "text/plain": [
       "<IPython.core.display.Image object>"
      ]
     },
     "metadata": {},
     "output_type": "display_data"
    }
   ],
   "source": [
    "checkpointer = MemorySaver()\n",
    "\n",
    "graph = workflow.compile(checkpointer=checkpointer)\n",
    "\n",
    "display(Image(graph.get_graph().draw_mermaid_png()))"
   ]
  },
  {
   "cell_type": "code",
   "execution_count": 245,
   "metadata": {},
   "outputs": [
    {
     "name": "stdout",
     "output_type": "stream",
     "text": [
      "No results found.\n"
     ]
    }
   ],
   "source": [
    "print(tool_call_result)"
   ]
  },
  {
   "cell_type": "code",
   "execution_count": 246,
   "metadata": {},
   "outputs": [],
   "source": [
    "import uuid\n",
    "inputs = \"Hello, what is the price of the iphone 13 pro?\""
   ]
  },
  {
   "cell_type": "code",
   "execution_count": 247,
   "metadata": {},
   "outputs": [
    {
     "name": "stdout",
     "output_type": "stream",
     "text": [
      "Based on our database, we have found information about the iPhone 13 Pro. Here are the details you requested:\n",
      "\n",
      "* Brand: Apple\n",
      "* Model: iPhone 13 Pro\n",
      "* Price: We currently have this model available for $999.\n",
      "\n",
      "As for availability, we do have stock of the iPhone 13 Pro in our stores. However, please note that prices and availability may vary depending on your location and other factors.\n",
      "\n",
      "Regarding storage and color options, I'm afraid we don't have that information readily available. If you're interested in purchasing this model, I recommend visiting our website or contacting one of our customer service representatives for more details.\n",
      "\n",
      "If you'd like to consider alternative models, we also have the iPhone 13 Mini available at a lower price point ($699). Would you like me to provide more information on that option?"
     ]
    },
    {
     "ename": "KeyError",
     "evalue": "'llm_output'",
     "output_type": "error",
     "traceback": [
      "\u001b[1;31m---------------------------------------------------------------------------\u001b[0m",
      "\u001b[1;31mKeyError\u001b[0m                                  Traceback (most recent call last)",
      "Cell \u001b[1;32mIn[247], line 9\u001b[0m\n\u001b[0;32m      7\u001b[0m buffer \u001b[38;5;241m=\u001b[39m []\n\u001b[0;32m      8\u001b[0m tool_msg_received \u001b[38;5;241m=\u001b[39m \u001b[38;5;28;01mFalse\u001b[39;00m\n\u001b[1;32m----> 9\u001b[0m \u001b[38;5;28;01masync\u001b[39;00m \u001b[38;5;28;01mfor\u001b[39;00m output, _ \u001b[38;5;129;01min\u001b[39;00m graph\u001b[38;5;241m.\u001b[39mastream(prompt, config, stream_mode\u001b[38;5;241m=\u001b[39m\u001b[38;5;124m\"\u001b[39m\u001b[38;5;124mmessages\u001b[39m\u001b[38;5;124m\"\u001b[39m):\n\u001b[0;32m     10\u001b[0m     \u001b[38;5;28;01mif\u001b[39;00m \u001b[38;5;129;01mnot\u001b[39;00m tool_msg_received:\n\u001b[0;32m     11\u001b[0m         buffer\u001b[38;5;241m.\u001b[39mappend(output)\n",
      "File \u001b[1;32mc:\\Users\\Aaron\\anaconda3\\Lib\\site-packages\\langgraph\\pregel\\__init__.py:2313\u001b[0m, in \u001b[0;36mPregel.astream\u001b[1;34m(self, input, config, stream_mode, output_keys, interrupt_before, interrupt_after, debug, subgraphs)\u001b[0m\n\u001b[0;32m   2307\u001b[0m \u001b[38;5;66;03m# Similarly to Bulk Synchronous Parallel / Pregel model\u001b[39;00m\n\u001b[0;32m   2308\u001b[0m \u001b[38;5;66;03m# computation proceeds in steps, while there are channel updates\u001b[39;00m\n\u001b[0;32m   2309\u001b[0m \u001b[38;5;66;03m# channel updates from step N are only visible in step N+1\u001b[39;00m\n\u001b[0;32m   2310\u001b[0m \u001b[38;5;66;03m# channels are guaranteed to be immutable for the duration of the step,\u001b[39;00m\n\u001b[0;32m   2311\u001b[0m \u001b[38;5;66;03m# with channel updates applied only at the transition between steps\u001b[39;00m\n\u001b[0;32m   2312\u001b[0m \u001b[38;5;28;01mwhile\u001b[39;00m loop\u001b[38;5;241m.\u001b[39mtick(input_keys\u001b[38;5;241m=\u001b[39m\u001b[38;5;28mself\u001b[39m\u001b[38;5;241m.\u001b[39minput_channels):\n\u001b[1;32m-> 2313\u001b[0m     \u001b[38;5;28;01masync\u001b[39;00m \u001b[38;5;28;01mfor\u001b[39;00m _ \u001b[38;5;129;01min\u001b[39;00m runner\u001b[38;5;241m.\u001b[39matick(\n\u001b[0;32m   2314\u001b[0m         loop\u001b[38;5;241m.\u001b[39mtasks\u001b[38;5;241m.\u001b[39mvalues(),\n\u001b[0;32m   2315\u001b[0m         timeout\u001b[38;5;241m=\u001b[39m\u001b[38;5;28mself\u001b[39m\u001b[38;5;241m.\u001b[39mstep_timeout,\n\u001b[0;32m   2316\u001b[0m         retry_policy\u001b[38;5;241m=\u001b[39m\u001b[38;5;28mself\u001b[39m\u001b[38;5;241m.\u001b[39mretry_policy,\n\u001b[0;32m   2317\u001b[0m         get_waiter\u001b[38;5;241m=\u001b[39mget_waiter,\n\u001b[0;32m   2318\u001b[0m     ):\n\u001b[0;32m   2319\u001b[0m         \u001b[38;5;66;03m# emit output\u001b[39;00m\n\u001b[0;32m   2320\u001b[0m         \u001b[38;5;28;01mfor\u001b[39;00m o \u001b[38;5;129;01min\u001b[39;00m output():\n\u001b[0;32m   2321\u001b[0m             \u001b[38;5;28;01myield\u001b[39;00m o\n",
      "File \u001b[1;32mc:\\Users\\Aaron\\anaconda3\\Lib\\site-packages\\langgraph\\pregel\\runner.py:527\u001b[0m, in \u001b[0;36mPregelRunner.atick\u001b[1;34m(self, tasks, reraise, timeout, retry_policy, get_waiter)\u001b[0m\n\u001b[0;32m    525\u001b[0m     fut\u001b[38;5;241m.\u001b[39mcancel()\n\u001b[0;32m    526\u001b[0m \u001b[38;5;66;03m# panic on failure or timeout\u001b[39;00m\n\u001b[1;32m--> 527\u001b[0m _panic_or_proceed(\n\u001b[0;32m    528\u001b[0m     futures\u001b[38;5;241m.\u001b[39mdone\u001b[38;5;241m.\u001b[39munion(f \u001b[38;5;28;01mfor\u001b[39;00m f, t \u001b[38;5;129;01min\u001b[39;00m futures\u001b[38;5;241m.\u001b[39mitems() \u001b[38;5;28;01mif\u001b[39;00m t \u001b[38;5;129;01mis\u001b[39;00m \u001b[38;5;129;01mnot\u001b[39;00m \u001b[38;5;28;01mNone\u001b[39;00m),\n\u001b[0;32m    529\u001b[0m     timeout_exc_cls\u001b[38;5;241m=\u001b[39masyncio\u001b[38;5;241m.\u001b[39mTimeoutError,\n\u001b[0;32m    530\u001b[0m     panic\u001b[38;5;241m=\u001b[39mreraise,\n\u001b[0;32m    531\u001b[0m )\n",
      "File \u001b[1;32mc:\\Users\\Aaron\\anaconda3\\Lib\\site-packages\\langgraph\\pregel\\runner.py:619\u001b[0m, in \u001b[0;36m_panic_or_proceed\u001b[1;34m(futs, timeout_exc_cls, panic)\u001b[0m\n\u001b[0;32m    617\u001b[0m         \u001b[38;5;66;03m# raise the exception\u001b[39;00m\n\u001b[0;32m    618\u001b[0m         \u001b[38;5;28;01mif\u001b[39;00m panic:\n\u001b[1;32m--> 619\u001b[0m             \u001b[38;5;28;01mraise\u001b[39;00m exc\n\u001b[0;32m    620\u001b[0m \u001b[38;5;28;01mif\u001b[39;00m inflight:\n\u001b[0;32m    621\u001b[0m     \u001b[38;5;66;03m# if we got here means we timed out\u001b[39;00m\n\u001b[0;32m    622\u001b[0m     \u001b[38;5;28;01mwhile\u001b[39;00m inflight:\n\u001b[0;32m    623\u001b[0m         \u001b[38;5;66;03m# cancel all pending tasks\u001b[39;00m\n",
      "File \u001b[1;32mc:\\Users\\Aaron\\anaconda3\\Lib\\site-packages\\langgraph\\pregel\\retry.py:128\u001b[0m, in \u001b[0;36marun_with_retry\u001b[1;34m(task, retry_policy, stream, configurable)\u001b[0m\n\u001b[0;32m    126\u001b[0m         \u001b[38;5;28;01mbreak\u001b[39;00m\n\u001b[0;32m    127\u001b[0m     \u001b[38;5;28;01melse\u001b[39;00m:\n\u001b[1;32m--> 128\u001b[0m         \u001b[38;5;28;01mreturn\u001b[39;00m \u001b[38;5;28;01mawait\u001b[39;00m task\u001b[38;5;241m.\u001b[39mproc\u001b[38;5;241m.\u001b[39mainvoke(task\u001b[38;5;241m.\u001b[39minput, config)\n\u001b[0;32m    129\u001b[0m \u001b[38;5;28;01mexcept\u001b[39;00m ParentCommand \u001b[38;5;28;01mas\u001b[39;00m exc:\n\u001b[0;32m    130\u001b[0m     ns: \u001b[38;5;28mstr\u001b[39m \u001b[38;5;241m=\u001b[39m config[CONF][CONFIG_KEY_CHECKPOINT_NS]\n",
      "File \u001b[1;32mc:\\Users\\Aaron\\anaconda3\\Lib\\site-packages\\langgraph\\utils\\runnable.py:585\u001b[0m, in \u001b[0;36mRunnableSeq.ainvoke\u001b[1;34m(self, input, config, **kwargs)\u001b[0m\n\u001b[0;32m    583\u001b[0m             \u001b[38;5;28minput\u001b[39m \u001b[38;5;241m=\u001b[39m \u001b[38;5;28;01mawait\u001b[39;00m step\u001b[38;5;241m.\u001b[39mainvoke(\u001b[38;5;28minput\u001b[39m, config, \u001b[38;5;241m*\u001b[39m\u001b[38;5;241m*\u001b[39mkwargs)\n\u001b[0;32m    584\u001b[0m         \u001b[38;5;28;01melse\u001b[39;00m:\n\u001b[1;32m--> 585\u001b[0m             \u001b[38;5;28minput\u001b[39m \u001b[38;5;241m=\u001b[39m \u001b[38;5;28;01mawait\u001b[39;00m step\u001b[38;5;241m.\u001b[39mainvoke(\u001b[38;5;28minput\u001b[39m, config)\n\u001b[0;32m    586\u001b[0m \u001b[38;5;66;03m# finish the root run\u001b[39;00m\n\u001b[0;32m    587\u001b[0m \u001b[38;5;28;01mexcept\u001b[39;00m \u001b[38;5;167;01mBaseException\u001b[39;00m \u001b[38;5;28;01mas\u001b[39;00m e:\n",
      "File \u001b[1;32mc:\\Users\\Aaron\\anaconda3\\Lib\\site-packages\\langgraph\\utils\\runnable.py:371\u001b[0m, in \u001b[0;36mRunnableCallable.ainvoke\u001b[1;34m(self, input, config, **kwargs)\u001b[0m\n\u001b[0;32m    369\u001b[0m \u001b[38;5;28;01mif\u001b[39;00m ASYNCIO_ACCEPTS_CONTEXT:\n\u001b[0;32m    370\u001b[0m     coro \u001b[38;5;241m=\u001b[39m cast(Coroutine[\u001b[38;5;28;01mNone\u001b[39;00m, \u001b[38;5;28;01mNone\u001b[39;00m, Any], \u001b[38;5;28mself\u001b[39m\u001b[38;5;241m.\u001b[39mafunc(\u001b[38;5;241m*\u001b[39margs, \u001b[38;5;241m*\u001b[39m\u001b[38;5;241m*\u001b[39mkwargs))\n\u001b[1;32m--> 371\u001b[0m     ret \u001b[38;5;241m=\u001b[39m \u001b[38;5;28;01mawait\u001b[39;00m asyncio\u001b[38;5;241m.\u001b[39mcreate_task(coro, context\u001b[38;5;241m=\u001b[39mcontext)\n\u001b[0;32m    372\u001b[0m \u001b[38;5;28;01melse\u001b[39;00m:\n\u001b[0;32m    373\u001b[0m     ret \u001b[38;5;241m=\u001b[39m \u001b[38;5;28;01mawait\u001b[39;00m \u001b[38;5;28mself\u001b[39m\u001b[38;5;241m.\u001b[39mafunc(\u001b[38;5;241m*\u001b[39margs, \u001b[38;5;241m*\u001b[39m\u001b[38;5;241m*\u001b[39mkwargs)\n",
      "File \u001b[1;32mc:\\Users\\Aaron\\anaconda3\\Lib\\site-packages\\langgraph\\graph\\branch.py:191\u001b[0m, in \u001b[0;36mBranch._aroute\u001b[1;34m(self, input, config, reader, writer)\u001b[0m\n\u001b[0;32m    189\u001b[0m \u001b[38;5;28;01melse\u001b[39;00m:\n\u001b[0;32m    190\u001b[0m     value \u001b[38;5;241m=\u001b[39m \u001b[38;5;28minput\u001b[39m\n\u001b[1;32m--> 191\u001b[0m result \u001b[38;5;241m=\u001b[39m \u001b[38;5;28;01mawait\u001b[39;00m \u001b[38;5;28mself\u001b[39m\u001b[38;5;241m.\u001b[39mpath\u001b[38;5;241m.\u001b[39mainvoke(value, config)\n\u001b[0;32m    192\u001b[0m \u001b[38;5;28;01mreturn\u001b[39;00m \u001b[38;5;28mself\u001b[39m\u001b[38;5;241m.\u001b[39m_finish(writer, \u001b[38;5;28minput\u001b[39m, result, config)\n",
      "File \u001b[1;32mc:\\Users\\Aaron\\anaconda3\\Lib\\site-packages\\langgraph\\utils\\runnable.py:359\u001b[0m, in \u001b[0;36mRunnableCallable.ainvoke\u001b[1;34m(self, input, config, **kwargs)\u001b[0m\n\u001b[0;32m    357\u001b[0m coro \u001b[38;5;241m=\u001b[39m cast(Coroutine[\u001b[38;5;28;01mNone\u001b[39;00m, \u001b[38;5;28;01mNone\u001b[39;00m, Any], \u001b[38;5;28mself\u001b[39m\u001b[38;5;241m.\u001b[39mafunc(\u001b[38;5;241m*\u001b[39margs, \u001b[38;5;241m*\u001b[39m\u001b[38;5;241m*\u001b[39mkwargs))\n\u001b[0;32m    358\u001b[0m \u001b[38;5;28;01mif\u001b[39;00m ASYNCIO_ACCEPTS_CONTEXT:\n\u001b[1;32m--> 359\u001b[0m     ret \u001b[38;5;241m=\u001b[39m \u001b[38;5;28;01mawait\u001b[39;00m asyncio\u001b[38;5;241m.\u001b[39mcreate_task(coro, context\u001b[38;5;241m=\u001b[39mcontext)\n\u001b[0;32m    360\u001b[0m \u001b[38;5;28;01melse\u001b[39;00m:\n\u001b[0;32m    361\u001b[0m     ret \u001b[38;5;241m=\u001b[39m \u001b[38;5;28;01mawait\u001b[39;00m coro\n",
      "File \u001b[1;32mc:\\Users\\Aaron\\anaconda3\\Lib\\site-packages\\langchain_core\\runnables\\config.py:588\u001b[0m, in \u001b[0;36mrun_in_executor\u001b[1;34m(executor_or_config, func, *args, **kwargs)\u001b[0m\n\u001b[0;32m    584\u001b[0m         \u001b[38;5;28;01mraise\u001b[39;00m \u001b[38;5;167;01mRuntimeError\u001b[39;00m \u001b[38;5;28;01mfrom\u001b[39;00m \u001b[38;5;21;01mexc\u001b[39;00m\n\u001b[0;32m    586\u001b[0m \u001b[38;5;28;01mif\u001b[39;00m executor_or_config \u001b[38;5;129;01mis\u001b[39;00m \u001b[38;5;28;01mNone\u001b[39;00m \u001b[38;5;129;01mor\u001b[39;00m \u001b[38;5;28misinstance\u001b[39m(executor_or_config, \u001b[38;5;28mdict\u001b[39m):\n\u001b[0;32m    587\u001b[0m     \u001b[38;5;66;03m# Use default executor with context copied from current context\u001b[39;00m\n\u001b[1;32m--> 588\u001b[0m     \u001b[38;5;28;01mreturn\u001b[39;00m \u001b[38;5;28;01mawait\u001b[39;00m asyncio\u001b[38;5;241m.\u001b[39mget_running_loop()\u001b[38;5;241m.\u001b[39mrun_in_executor(\n\u001b[0;32m    589\u001b[0m         \u001b[38;5;28;01mNone\u001b[39;00m,\n\u001b[0;32m    590\u001b[0m         cast(Callable[\u001b[38;5;241m.\u001b[39m\u001b[38;5;241m.\u001b[39m\u001b[38;5;241m.\u001b[39m, T], partial(copy_context()\u001b[38;5;241m.\u001b[39mrun, wrapper)),\n\u001b[0;32m    591\u001b[0m     )\n\u001b[0;32m    593\u001b[0m \u001b[38;5;28;01mreturn\u001b[39;00m \u001b[38;5;28;01mawait\u001b[39;00m asyncio\u001b[38;5;241m.\u001b[39mget_running_loop()\u001b[38;5;241m.\u001b[39mrun_in_executor(executor_or_config, wrapper)\n",
      "File \u001b[1;32mc:\\Users\\Aaron\\anaconda3\\Lib\\concurrent\\futures\\thread.py:58\u001b[0m, in \u001b[0;36m_WorkItem.run\u001b[1;34m(self)\u001b[0m\n\u001b[0;32m     55\u001b[0m     \u001b[38;5;28;01mreturn\u001b[39;00m\n\u001b[0;32m     57\u001b[0m \u001b[38;5;28;01mtry\u001b[39;00m:\n\u001b[1;32m---> 58\u001b[0m     result \u001b[38;5;241m=\u001b[39m \u001b[38;5;28mself\u001b[39m\u001b[38;5;241m.\u001b[39mfn(\u001b[38;5;241m*\u001b[39m\u001b[38;5;28mself\u001b[39m\u001b[38;5;241m.\u001b[39margs, \u001b[38;5;241m*\u001b[39m\u001b[38;5;241m*\u001b[39m\u001b[38;5;28mself\u001b[39m\u001b[38;5;241m.\u001b[39mkwargs)\n\u001b[0;32m     59\u001b[0m \u001b[38;5;28;01mexcept\u001b[39;00m \u001b[38;5;167;01mBaseException\u001b[39;00m \u001b[38;5;28;01mas\u001b[39;00m exc:\n\u001b[0;32m     60\u001b[0m     \u001b[38;5;28mself\u001b[39m\u001b[38;5;241m.\u001b[39mfuture\u001b[38;5;241m.\u001b[39mset_exception(exc)\n",
      "File \u001b[1;32mc:\\Users\\Aaron\\anaconda3\\Lib\\site-packages\\langchain_core\\runnables\\config.py:579\u001b[0m, in \u001b[0;36mrun_in_executor.<locals>.wrapper\u001b[1;34m()\u001b[0m\n\u001b[0;32m    577\u001b[0m \u001b[38;5;28;01mdef\u001b[39;00m \u001b[38;5;21mwrapper\u001b[39m() \u001b[38;5;241m-\u001b[39m\u001b[38;5;241m>\u001b[39m T:\n\u001b[0;32m    578\u001b[0m     \u001b[38;5;28;01mtry\u001b[39;00m:\n\u001b[1;32m--> 579\u001b[0m         \u001b[38;5;28;01mreturn\u001b[39;00m func(\u001b[38;5;241m*\u001b[39margs, \u001b[38;5;241m*\u001b[39m\u001b[38;5;241m*\u001b[39mkwargs)\n\u001b[0;32m    580\u001b[0m     \u001b[38;5;28;01mexcept\u001b[39;00m \u001b[38;5;167;01mStopIteration\u001b[39;00m \u001b[38;5;28;01mas\u001b[39;00m exc:\n\u001b[0;32m    581\u001b[0m         \u001b[38;5;66;03m# StopIteration can't be set on an asyncio.Future\u001b[39;00m\n\u001b[0;32m    582\u001b[0m         \u001b[38;5;66;03m# it raises a TypeError and leaves the Future pending forever\u001b[39;00m\n\u001b[0;32m    583\u001b[0m         \u001b[38;5;66;03m# so we need to convert it to a RuntimeError\u001b[39;00m\n\u001b[0;32m    584\u001b[0m         \u001b[38;5;28;01mraise\u001b[39;00m \u001b[38;5;167;01mRuntimeError\u001b[39;00m \u001b[38;5;28;01mfrom\u001b[39;00m \u001b[38;5;21;01mexc\u001b[39;00m\n",
      "Cell \u001b[1;32mIn[242], line 23\u001b[0m, in \u001b[0;36mgrader\u001b[1;34m(state)\u001b[0m\n\u001b[0;32m     20\u001b[0m tool_call_result \u001b[38;5;241m=\u001b[39m state[\u001b[38;5;124m\"\u001b[39m\u001b[38;5;124mtool_call_result\u001b[39m\u001b[38;5;124m\"\u001b[39m]\n\u001b[0;32m     22\u001b[0m \u001b[38;5;66;03m# Format the system prompt sent to the llm with context from the database and user question\u001b[39;00m\n\u001b[1;32m---> 23\u001b[0m grader_prompt_formatted \u001b[38;5;241m=\u001b[39m GRADER_PROMPT\u001b[38;5;241m.\u001b[39mformat(data\u001b[38;5;241m=\u001b[39mtool_call_result, question\u001b[38;5;241m=\u001b[39mquestion)\n\u001b[0;32m     25\u001b[0m grader_response \u001b[38;5;241m=\u001b[39m llm_json\u001b[38;5;241m.\u001b[39minvoke([SystemMessage(content\u001b[38;5;241m=\u001b[39mGRADER_INSTRUCTIONS)] \u001b[38;5;241m+\u001b[39m [HumanMessage(content\u001b[38;5;241m=\u001b[39mgrader_prompt_formatted)])\n\u001b[0;32m     26\u001b[0m \u001b[38;5;66;03m# print(\"Grading the results from the database...\")\u001b[39;00m\n",
      "\u001b[1;31mKeyError\u001b[0m: 'llm_output'",
      "\u001b[0mDuring task with name 'generate_response' and id '65940cb3-3264-5aa4-fdd6-d323eea4ea0a'"
     ]
    }
   ],
   "source": [
    "prompt = {\n",
    "    \"messages\": [HumanMessage(content=inputs)],\n",
    "    \"tool_call_result\": []\n",
    "    }\n",
    "config = {\"configurable\": {\"thread_id\": \"12344\"}}\n",
    "\n",
    "buffer = []\n",
    "tool_msg_received = False\n",
    "async for output, _ in graph.astream(prompt, config, stream_mode=\"messages\"):\n",
    "    if not tool_msg_received:\n",
    "        buffer.append(output)\n",
    "        if isinstance(output, ToolMessage):\n",
    "            tool_msg_received = True\n",
    "            buffer.clear()\n",
    "    else:\n",
    "        # After the ToolMessage, print tokens directly.\n",
    "        print(output.content, end='', flush=True)\n",
    "\n"
   ]
  },
  {
   "cell_type": "code",
   "execution_count": null,
   "metadata": {},
   "outputs": [],
   "source": []
  }
 ],
 "metadata": {
  "kernelspec": {
   "display_name": "base",
   "language": "python",
   "name": "python3"
  },
  "language_info": {
   "codemirror_mode": {
    "name": "ipython",
    "version": 3
   },
   "file_extension": ".py",
   "mimetype": "text/x-python",
   "name": "python",
   "nbconvert_exporter": "python",
   "pygments_lexer": "ipython3",
   "version": "3.12.7"
  }
 },
 "nbformat": 4,
 "nbformat_minor": 2
}
