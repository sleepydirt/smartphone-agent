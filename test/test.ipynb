{
 "cells": [
  {
   "cell_type": "code",
   "execution_count": 20,
   "metadata": {},
   "outputs": [],
   "source": [
    "from langchain_core.tools import tool\n",
    "from langchain_ollama import ChatOllama\n",
    "from langchain_core.messages import SystemMessage, HumanMessage\n",
    "from langchain_core.tools import tool\n",
    "from langchain_core.messages import BaseMessage\n",
    "from langgraph.graph.message import add_messages\n",
    "from langgraph.graph import END, StateGraph, START\n",
    "from dotenv import load_dotenv\n",
    "from typing import List, Tuple, Annotated, Sequence, Literal\n",
    "from typing_extensions import TypedDict\n",
    "from IPython.display import Image, display\n",
    "import psycopg2\n",
    "import os\n",
    "import json\n",
    "import logging\n",
    "\n",
    "load_dotenv()\n",
    "\n",
    "OLLAMA_MODEL = \"llama3.1:8b\"\n",
    "POSTGRES_PASSWORD = os.getenv(\"POSTGRES_PASSWORD\")\n",
    "POSTGRES_USER = os.getenv(\"POSTGRES_USER\")\n",
    "POSTGRES_DATABASE = os.getenv(\"POSTGRES_DATABASE\")\n",
    "\n",
    "OLLAMA_BASE_URL = \"100.110.219.100:11434\""
   ]
  },
  {
   "cell_type": "code",
   "execution_count": 21,
   "metadata": {},
   "outputs": [],
   "source": [
    "llm = ChatOllama(model=OLLAMA_MODEL, temperature=0, base_url=OLLAMA_BASE_URL)\n",
    "llm_json = ChatOllama(model=OLLAMA_MODEL, temperature=0, format=\"json\", base_url=OLLAMA_BASE_URL)"
   ]
  },
  {
   "cell_type": "code",
   "execution_count": 22,
   "metadata": {},
   "outputs": [
    {
     "data": {
      "text/plain": [
       "{'user_query': 'accept'}"
      ]
     },
     "execution_count": 22,
     "metadata": {},
     "output_type": "execute_result"
    }
   ],
   "source": [
    "# Router\n",
    "\n",
    "ROUTER_INSTRUCTIONS = '''You are an expert at determining whether a user question requires access to a database from a smartphone shop. \n",
    "\n",
    "The database schema is as follows:\n",
    "- id (int): The unique identifier of the smartphone. You will not use this.\n",
    "- brand (str): The brand of the smartphone, (eg. 'Apple', 'Google', 'Samsung'...)\n",
    "- model (str): The model of the smartphone (eg. 'iPhone 13 Pro Max', 'Galaxy S21 Ultra', 'Mi 13 Pro'...)\n",
    "- price (int): The price of the smartphone in Singapore Dollars.\n",
    "- stock_status (str): The stock status of the smartphone ('In Stock', 'Out of Stock')\n",
    "\n",
    "For questions related to a smartphone's price or availibility, you should accept the user query since it requires information from the database. For unknown brands or models, you should also approve the query since it may require database access. For all other questions that do not require database access, please reject the query.\n",
    "\n",
    "Return JSON with a single key user_query, that is 'accept' or 'reject' depending on whether the question requires database access.'''\n",
    "\n",
    "question = [HumanMessage(content=\"What is the price of all the iPhone 13 models that you have?\")]\n",
    "\n",
    "test_router_response = llm_json.invoke([SystemMessage(content=ROUTER_INSTRUCTIONS)] + question)\n",
    "\n",
    "json.loads(test_router_response.content)"
   ]
  },
  {
   "cell_type": "code",
   "execution_count": 25,
   "metadata": {},
   "outputs": [],
   "source": [
    "@tool\n",
    "def executePostgreSQLQuery(query: str) -> List[Tuple[int, str, str, int, str]]:\n",
    "    '''Executes a PostgreSQL query and returns the result as a list of tuples. Please only query the table \"smartphones\".\n",
    "    \n",
    "    Args:\n",
    "        query (str): The PostgreSQL query to be executed.\n",
    "        \n",
    "    Returns:\n",
    "        result (List[Tuple[int, str, str, int, str]]): The result of the query, a list of tuples (id, brand, model, price, stock_status).\n",
    "    '''\n",
    "\n",
    "    # Connect to database\n",
    "    print(\"executePostgreSQLQuery tool called!\")\n",
    "    conn = psycopg2.connect(database=POSTGRES_DATABASE, user=POSTGRES_USER, password=POSTGRES_PASSWORD, host=\"localhost\", port=\"5432\")\n",
    "    print(\"Database connected successfully.\")\n",
    "    with conn.cursor() as cursor:\n",
    "        try:\n",
    "            print(\"Executing sql query...\")\n",
    "            cursor.execute(query)\n",
    "            result = cursor.fetchall()\n",
    "        except:\n",
    "            print(\"Error executing query.\")\n",
    "            conn.close()\n",
    "            return\n",
    "    # Close connection\n",
    "    conn.close()\n",
    "    if result:\n",
    "        print(\"Database query success\")\n",
    "        return result\n",
    "    else:\n",
    "        return \"No result from the database\""
   ]
  },
  {
   "cell_type": "code",
   "execution_count": 27,
   "metadata": {},
   "outputs": [
    {
     "name": "stdout",
     "output_type": "stream",
     "text": [
      "executePostgreSQLQuery tool called!\n",
      "Database connected successfully.\n",
      "Executing sql query...\n",
      "Error executing query.\n"
     ]
    },
    {
     "data": {
      "text/plain": [
       "'null'"
      ]
     },
     "execution_count": 27,
     "metadata": {},
     "output_type": "execute_result"
    }
   ],
   "source": [
    "# Database query\n",
    "\n",
    "SQL_AGENT_INSTRUCTIONS = '''You are an agent designed to interact with a PostgreSQL database.\n",
    "\n",
    "Given an input question, create a syntactically correct PostgreSQL query to run. Your query should always begin with \"SELECT * FROM smartphones WHERE\" and you can add any conditions you want. Note that all string comparisons should be match case-insensitive and enclosed within single quotes.\n",
    "\n",
    "DO NOT make any DML statements (INSERT, UPDATE, DELETE, DROP etc.) to the database.\n",
    "\n",
    "The database schema is as follows:\n",
    "- id (int): The unique identifier of the smartphone. You will not use this.\n",
    "- brand (str): The brand of the smartphone, (eg. 'Apple', 'Google', 'Samsung'...)\n",
    "- model (str): The model of the smartphone (eg. 'iPhone 13 Pro Max', 'Galaxy S21 Ultra', 'Mi 13 Pro'...)\n",
    "- price (int): The price of the smartphone in Singapore Dollars.\n",
    "- stock_status (str): The stock status of the smartphone ('In Stock', 'Out of Stock')\n",
    "'''\n",
    "\n",
    "\n",
    "question = [HumanMessage(content=\"What is the price of all your iPhone 13 models?\")]\n",
    "\n",
    "llm_with_db = llm.bind_tools([executePostgreSQLQuery])\n",
    "\n",
    "test_sql_agent_response = llm_with_db.invoke([SystemMessage(content=SQL_AGENT_INSTRUCTIONS)] + question)\n",
    "\n",
    "tool_call_result = executePostgreSQLQuery.invoke(test_sql_agent_response.tool_calls[0]).content\n",
    "\n",
    "tool_call_result"
   ]
  },
  {
   "cell_type": "code",
   "execution_count": null,
   "metadata": {},
   "outputs": [
    {
     "data": {
      "text/plain": [
       "AIMessage(content='', additional_kwargs={}, response_metadata={'model': 'llama3.1:8b', 'created_at': '2025-03-17T01:31:09.091051051Z', 'done': True, 'done_reason': 'stop', 'total_duration': 524630751, 'load_duration': 138899158, 'prompt_eval_count': 456, 'prompt_eval_duration': 22000000, 'eval_count': 36, 'eval_duration': 362000000, 'message': Message(role='assistant', content='', images=None, tool_calls=None)}, id='run-0dd16324-f184-479e-a2a4-f9965e99065b-0', tool_calls=[{'name': 'executePostgreSQLQuery', 'args': {'query': \"SELECT * FROM smartphones WHERE brand = 'Apple' AND model LIKE '%iPhone 13%'\"}, 'id': 'ce9c56a8-f92f-4bbf-8942-f92abe0b6ed6', 'type': 'tool_call'}], usage_metadata={'input_tokens': 456, 'output_tokens': 36, 'total_tokens': 492})"
      ]
     },
     "execution_count": 7,
     "metadata": {},
     "output_type": "execute_result"
    }
   ],
   "source": [
    "test_sql_agent_response"
   ]
  },
  {
   "cell_type": "code",
   "execution_count": 8,
   "metadata": {},
   "outputs": [
    {
     "data": {
      "text/plain": [
       "{'grader_score': 'yes'}"
      ]
     },
     "execution_count": 8,
     "metadata": {},
     "output_type": "execute_result"
    }
   ],
   "source": [
    "# Grader\n",
    "\n",
    "GRADER_INSTRUCTIONS = '''You are a grader that will be provided with data from a smartphone store's database and a user question. If the database contains information that can answer the user's question, grade it as 'yes'. Return JSON with a single key, grader_score, that is either 'yes' or 'no' to indicate whether the user's question can be answered with the data provided.'''\n",
    "\n",
    "GRADER_PROMPT = '''Here is the data provided: \\n\\n {data} \\n\\n Here is the user question: \\n\\n {question}'''\n",
    "\n",
    "question = \"What is the most expensive iphone 13 you have?\"\n",
    "\n",
    "grader_prompt_formatted = GRADER_PROMPT.format(data=tool_call_result, question=question)\n",
    "\n",
    "test_grader_response = llm_json.invoke([SystemMessage(content=GRADER_INSTRUCTIONS)] + [HumanMessage(content=grader_prompt_formatted)])\n",
    "\n",
    "json.loads(test_grader_response.content)"
   ]
  },
  {
   "cell_type": "code",
   "execution_count": 9,
   "metadata": {},
   "outputs": [
    {
     "name": "stdout",
     "output_type": "stream",
     "text": [
      "Based on our database, we have two iPhone 13 models available. The prices are as follows:\n",
      "\n",
      "* iPhone 13: $1099\n",
      "* iPhone 13 Mini: $999 (unfortunately, this model is currently out of stock)\n",
      "\n",
      "The most expensive iPhone 13 model that we have in stock is the iPhone 13, priced at $1099.\n"
     ]
    }
   ],
   "source": [
    "# Generate response\n",
    "\n",
    "RAG_PROMPT = '''You are an assistant that helps to answer users' queries about smartphone pricing and availibility.\n",
    "Here is the context to use to answer the question, a database query response that contains ONLY information about the requested smartphone(s) brand, model, price, and availibility. For all other specifications, please inform the user that you do not have the information. If a requested smartphone is unavailable, you should politely inform the user instead of giving incorrect data, suggesting alternative models instead. Offer suggestions if customers type incomplete or ambiguous queries (e.g., \"Did you mean iPhone 13 Pro or iPhone 13 Mini?\"):\n",
    "\n",
    "{context} \n",
    "\n",
    "Here is the user's question:\n",
    "\n",
    "{question}\n",
    "\n",
    "Convey all information to the user.\n",
    "Answer:'''\n",
    "\n",
    "rag_prompt_formatted = RAG_PROMPT.format(context=tool_call_result, question=question)\n",
    "\n",
    "test_generate_response = llm.invoke([HumanMessage(content=rag_prompt_formatted)])\n",
    "\n",
    "print(test_generate_response.content)"
   ]
  },
  {
   "cell_type": "code",
   "execution_count": 10,
   "metadata": {},
   "outputs": [],
   "source": [
    "class State(TypedDict):\n",
    "    messages: Annotated[Sequence[BaseMessage], add_messages]"
   ]
  },
  {
   "cell_type": "code",
   "execution_count": 16,
   "metadata": {},
   "outputs": [],
   "source": [
    "# Converting everything above into a function\n",
    "\n",
    "# Edges\n",
    "\n",
    "def grader(state) -> Literal[\"yes\", \"no\"]:\n",
    "    '''Determines whether the results from the database can answer the user's question. If not, suggest alternatives or inform the user that the information is not available.\n",
    "    \n",
    "    Args:\n",
    "        state (State): The current state of the agent.\n",
    "    \n",
    "    Returns:\n",
    "        str: A decision by the model for whether the user's question can be answered with the data provided.'''\n",
    "    \n",
    "    llm_json = ChatOllama(model=OLLAMA_MODEL, temperature=0, format=\"json\", base_url=OLLAMA_BASE_URL)\n",
    "\n",
    "    # Take the first message in the state to get the user question\n",
    "    question = state[\"messages\"][0].content\n",
    "\n",
    "    # Format the system prompt sent to the llm with context from the database and user question\n",
    "    grader_prompt_formatted = GRADER_PROMPT.format(data=tool_call_result, question=question)\n",
    "\n",
    "    grader_response = llm_json.invoke([SystemMessage(content=GRADER_INSTRUCTIONS)] + [HumanMessage(content=grader_prompt_formatted)])\n",
    "    print(\"Grading the results from the database...\")\n",
    "    grader_score = json.loads(grader_response.content)\n",
    "    \n",
    "    if grader_score.get(\"grader_score\") == \"yes\":\n",
    "        print(\"The user's question can be answered with the data provided.\")\n",
    "        return \"yes\"\n",
    "    else:\n",
    "        print(\"The user's question cannot be answered with the data provided.\")\n",
    "        return \"no\"\n",
    "\n",
    "def router(state) -> Literal[\"accept\", \"reject\"]:\n",
    "    '''Determines whether the user query requires access to the database.\n",
    "    \n",
    "    Args:\n",
    "        state (State): The current state of the agent.\n",
    "    \n",
    "    Returns:\n",
    "        str: Either calls the sql_agent node or generates a response directly based on the user query.'''\n",
    "    \n",
    "    # Take the first message in the state to get the user question\n",
    "    question = state[\"messages\"][0]\n",
    "\n",
    "    # Get the AIResponse containing a JSON object to indicate whether database access is accepted or rejected\n",
    "    router_response = llm_json.invoke([SystemMessage(content=ROUTER_INSTRUCTIONS)] + [question])\n",
    "    print(\"Processing user query...\")\n",
    "    user_query = json.loads(router_response.content)\n",
    "\n",
    "    if user_query.get(\"user_query\") == \"accept\":\n",
    "        print(\"The user's query requires access to the database.\")\n",
    "        return \"accept\"\n",
    "    else:\n",
    "        print(\"The user's query does not require access to the database.\")\n",
    "        return \"reject\"\n",
    "\n",
    "# Nodes\n",
    "def sql_agent(state):\n",
    "    '''Generate a SQL query based on the user question and executes it.\n",
    "    \n",
    "    Args:\n",
    "        state (State): The current state of the agent.\n",
    "        \n",
    "    Returns:\n",
    "        dict: The updated state with the tool call result appended to messages.'''\n",
    "\n",
    "    llm = ChatOllama(model=OLLAMA_MODEL, temperature=0, base_url=OLLAMA_BASE_URL)\n",
    "\n",
    "    # In this case, only one tool is present, so I am hardcoding it\n",
    "    # state['tools'] = StructuredTool object\n",
    "    llm_with_db = llm.bind_tools([executePostgreSQLQuery])\n",
    "\n",
    "    # Take the first message in the state to get the user question\n",
    "    question = state[\"messages\"][0]\n",
    "\n",
    "    # The AIResponse containing the tool call and the sql query to be performed\n",
    "    sql_agent_response = llm_with_db.invoke([SystemMessage(content=SQL_AGENT_INSTRUCTIONS)] + [question])\n",
    "    print(\"Generating SQL query to execute...\")\n",
    "    # Execute the sql query and return the result\n",
    "    tool_call_result = executePostgreSQLQuery.invoke(sql_agent_response.tool_calls[0])\n",
    "    print(f\"Executing SQL query: {sql_agent_response.tool_calls[0].get('args').get('query')} \")\n",
    "\n",
    "    return {\"messages\": [tool_call_result]}\n",
    "\n",
    "def generate_response(state):\n",
    "    '''Generate response to user query based on the context and user question.\n",
    "    \n",
    "    Args:\n",
    "        state (State): The current state of the agent.\n",
    "        \n",
    "    Returns:\n",
    "        dict: The updated state with the final response to the user query.'''\n",
    "\n",
    "    # Take the first message in the state to get the user question\n",
    "    question = state[\"messages\"][0].content\n",
    "\n",
    "    # Get the tool call result from the state\n",
    "    tool_call_result = state[\"messages\"][-1].content\n",
    "    \n",
    "    # Format the system prompt sent to the llm with context and user question\n",
    "    rag_prompt_formatted = RAG_PROMPT.format(context=tool_call_result, question=question)\n",
    "\n",
    "    generate_response = llm.invoke([HumanMessage(content=rag_prompt_formatted)])\n",
    "\n",
    "    return {\"messages\": [generate_response]}"
   ]
  },
  {
   "cell_type": "code",
   "execution_count": 17,
   "metadata": {},
   "outputs": [
    {
     "data": {
      "text/plain": [
       "<langgraph.graph.state.StateGraph at 0x25c18a298e0>"
      ]
     },
     "execution_count": 17,
     "metadata": {},
     "output_type": "execute_result"
    }
   ],
   "source": [
    "workflow = StateGraph(State)\n",
    "\n",
    "workflow.add_node(\"sql_agent\", sql_agent)\n",
    "workflow.add_node(\"generate_response\", generate_response)\n",
    "\n",
    "workflow.set_conditional_entry_point(\n",
    "    router,\n",
    "    {\n",
    "        \"accept\": \"sql_agent\",\n",
    "        \"reject\": END\n",
    "    }\n",
    ")\n",
    "\n",
    "# should add like a max number of retries, if no go back to sql_agent\n",
    "workflow.add_conditional_edges(\n",
    "    \"sql_agent\",\n",
    "    grader,\n",
    "    {\n",
    "        \"yes\": \"generate_response\",\n",
    "        \"no\": \"generate_response\"\n",
    "    }\n",
    ")\n",
    "\n",
    "workflow.add_edge(\"generate_response\", END)"
   ]
  },
  {
   "cell_type": "code",
   "execution_count": 18,
   "metadata": {},
   "outputs": [
    {
     "data": {
      "image/png": "[encoded data removed]",
      "text/plain": [
       "<IPython.core.display.Image object>"
      ]
     },
     "metadata": {},
     "output_type": "display_data"
    }
   ],
   "source": [
    "graph = workflow.compile()\n",
    "\n",
    "display(Image(graph.get_graph().draw_mermaid_png()))"
   ]
  },
  {
   "cell_type": "code",
   "execution_count": 19,
   "metadata": {},
   "outputs": [
    {
     "name": "stdout",
     "output_type": "stream",
     "text": [
      "Processing user query...\n",
      "The user's query requires access to the database.\n",
      "Generating SQL query to execute...\n",
      "executePostgreSQLQuery tool called!\n",
      "Database connected successfully.\n",
      "Executing sql query...\n",
      "Database query success\n",
      "Executing SQL query: SELECT * FROM smartphones WHERE brand = 'ZTE' AND stock_status = 'In Stock' \n",
      "Grading the results from the database...\n",
      "The user's question cannot be answered with the data provided.\n",
      "{'sql_agent': {'messages': [ToolMessage(content='[[84, \"ZTE\", \"Axon 40\", 649, \"In Stock\"], [86, \"ZTE\", \"Nubia Red Magic 7\", 899, \"In Stock\"], [130, \"ZTE\", \"Nubia Z20\", 649, \"In Stock\"], [172, \"ZTE\", \"Axon 50\", 699, \"In Stock\"]]', name='executePostgreSQLQuery', id='2317fe7a-baa3-4e39-b898-b6b619d8db04', tool_call_id='6d14897f-87be-4df8-9858-0bfdf9a10433')]}}\n",
      "{'generate_response': {'messages': [AIMessage(content='I think there may be a small issue with your query. I couldn\\'t find any information about \"ZTS\" phones in our database. It seems like it might be a typo or an unknown brand/model.\\n\\nHowever, I did notice that we have some ZTE phones available. Would you like to know more about them? We currently have the following ZTE models:\\n\\n* Axon 40: $649 (In Stock)\\n* Nubia Red Magic 7: $899 (In Stock)\\n* Nubia Z20: $649 (In Stock)\\n* Axon 50: $699 (In Stock)\\n\\nLet me know if you\\'d like more information about any of these models!', additional_kwargs={}, response_metadata={'model': 'llama3.1:8b', 'created_at': '2025-03-17T01:33:48.611378526Z', 'done': True, 'done_reason': 'stop', 'total_duration': 1209301511, 'load_duration': 18174555, 'prompt_eval_count': 248, 'prompt_eval_duration': 13000000, 'eval_count': 142, 'eval_duration': 1177000000, 'message': Message(role='assistant', content='', images=None, tool_calls=None)}, id='run-6202938f-090a-4270-b5dc-42754c6ed366-0', usage_metadata={'input_tokens': 248, 'output_tokens': 142, 'total_tokens': 390})]}}\n"
     ]
    }
   ],
   "source": [
    "inputs = {\n",
    "    \"messages\": [HumanMessage(content=\"What is the price of the ZTS phones you have currently?\")]\n",
    "}\n",
    "\n",
    "for output in graph.stream(inputs):\n",
    "    print(output)"
   ]
  }
 ],
 "metadata": {
  "kernelspec": {
   "display_name": "base",
   "language": "python",
   "name": "python3"
  },
  "language_info": {
   "codemirror_mode": {
    "name": "ipython",
    "version": 3
   },
   "file_extension": ".py",
   "mimetype": "text/x-python",
   "name": "python",
   "nbconvert_exporter": "python",
   "pygments_lexer": "ipython3",
   "version": "3.12.7"
  }
 },
 "nbformat": 4,
 "nbformat_minor": 2
}
